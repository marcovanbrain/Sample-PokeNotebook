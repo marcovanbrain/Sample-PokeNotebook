{
  "cells": [
    {
      "cell_type": "markdown",
      "source": [
        "# New Pokémon across early generations\n",
        "\n",
        "This notebook uses the [PokéAPI](https://pokeapi.co/docs/v2#info) to aggregate and plot species additions over the first 4 generations. \n",
        "\n",
        "Want to track more generations? Grab data from the [the generation endpoint](https://pokeapi.co/docs/v2#generations), save it as a json file and add it to the `data` directory"
      ],
      "metadata": {}
    },
    {
      "cell_type": "code",
      "source": [
        "# Recommended: Uncomment these if this is your first time running this notebook on your local machine, you can comment/skip them afterwards\n",
        "# !{sys.executable} -m pip install pyarrow\n",
        "# !{sys.executable} -m pip install pymysql\n",
        "# !{sys.executable} -m pip install sqlalchemy\n"
      ],
      "outputs": [],
      "execution_count": null,
      "metadata": {
        "gather": {
          "logged": 1606866425713
        }
      }
    },
    {
      "cell_type": "code",
      "source": [
        "import os, sys\n",
        "import pandas as pd\n",
        "from pandas.io.json import json_normalize\n",
        "import matplotlib.pyplot as plt\n",
        "import json \n",
        "\n",
        "generations = []\n",
        "\n",
        "# Loop through all json files in the data and add to generations list\n",
        "for filename in os.listdir('data'):\n",
        "    with open('data/'+ filename, 'r', encoding='utf-8') as json_file:\n",
        "        generations.append(json.loads(json_file.read()))\n",
        "\n",
        "# Extract the pokemon_species and generation name\n",
        "df = json_normalize(generations, ['pokemon_species'], meta=['name', 'version_groups'], record_prefix='pokemon_')\n",
        "\n",
        "# This line shows the first 50 pokémon added to the data frame \n",
        "# df.head(50)\n",
        "generation_counts = df.groupby(['name']).count()\n",
        "\n",
        "# Count how many species were introduced per generation\n",
        "generation_counts['pokemon_name']"
      ],
      "outputs": [],
      "execution_count": null,
      "metadata": {
        "gather": {
          "logged": 1606866425954
        }
      }
    },
    {
      "cell_type": "code",
      "source": [
        "bar = generation_counts.plot.bar(y='pokemon_name', title=\"New Pokémon introduced per generation\")\n",
        "bar.set_xlabel('Generation')\n",
        "bar.set_ylabel('# of Pokémon')"
      ],
      "outputs": [],
      "execution_count": null,
      "metadata": {
        "gather": {
          "logged": 1606866746479
        }
      }
    },
    {
      "cell_type": "markdown",
      "source": [
        "# Results\n",
        "\n",
        "The query and graph show that a large number of Pokémon were introduced in the first and third generations. Querying the rest of the keys in this data may answer why generation 3 is larger than 2 and 4. Give it a try, good luck!"
      ],
      "metadata": {}
    }
  ],
  "metadata": {
    "language_info": {
      "name": "python",
      "version": "3.8.5-final",
      "mimetype": "text/x-python",
      "codemirror_mode": {
        "name": "ipython",
        "version": 3
      },
      "pygments_lexer": "ipython3",
      "nbconvert_exporter": "python",
      "file_extension": ".py"
    },
    "orig_nbformat": 2,
    "kernelspec": {
      "name": "python3",
      "display_name": "Python 3.8.5 64-bit",
      "metadata": {
        "interpreter": {
          "hash": "8ef709fdee6171115473a3389040afd10005e37f0bb33923d125dbc3de60eb2f"
        }
      }
    },
    "kernel_info": {
      "name": "python3"
    },
    "nteract": {
      "version": "nteract-front-end@1.0.0"
    }
  },
  "nbformat": 4,
  "nbformat_minor": 2
}